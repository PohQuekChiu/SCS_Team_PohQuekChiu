{
 "cells": [
  {
   "cell_type": "markdown",
   "metadata": {},
   "source": [
    "# Date and Time"
   ]
  },
  {
   "cell_type": "code",
   "execution_count": 1,
   "metadata": {},
   "outputs": [],
   "source": [
    "import time"
   ]
  },
  {
   "cell_type": "code",
   "execution_count": 2,
   "metadata": {},
   "outputs": [],
   "source": [
    "localtime = time.asctime( time.localtime(time.time()) )"
   ]
  },
  {
   "cell_type": "code",
   "execution_count": 3,
   "metadata": {},
   "outputs": [
    {
     "name": "stdout",
     "output_type": "stream",
     "text": [
      "Tue Jun 19 16:05:15 2018\n"
     ]
    }
   ],
   "source": [
    "print(localtime)"
   ]
  },
  {
   "cell_type": "markdown",
   "metadata": {},
   "source": [
    "# Calendar - check schedules"
   ]
  },
  {
   "cell_type": "code",
   "execution_count": 4,
   "metadata": {},
   "outputs": [],
   "source": [
    "import calendar\n",
    "import datetime"
   ]
  },
  {
   "cell_type": "code",
   "execution_count": 5,
   "metadata": {},
   "outputs": [
    {
     "name": "stdout",
     "output_type": "stream",
     "text": [
      "Here is the calendar:\n",
      "     June 2018\n",
      "Mo Tu We Th Fr Sa Su\n",
      "             1  2  3\n",
      " 4  5  6  7  8  9 10\n",
      "11 12 13 14 15 16 17\n",
      "18 19 20 21 22 23 24\n",
      "25 26 27 28 29 30\n",
      "\n"
     ]
    }
   ],
   "source": [
    " #display month June(6), year 2018 \n",
    "cal = calendar.month(2018, 6)\n",
    "print (\"Here is the calendar:\")\n",
    "print (cal)"
   ]
  },
  {
   "cell_type": "markdown",
   "metadata": {},
   "source": [
    "# Tell student to Wake up Alarm"
   ]
  },
  {
   "cell_type": "code",
   "execution_count": 6,
   "metadata": {},
   "outputs": [],
   "source": [
    "import time\n",
    "import os"
   ]
  },
  {
   "cell_type": "code",
   "execution_count": 7,
   "metadata": {},
   "outputs": [
    {
     "name": "stdout",
     "output_type": "stream",
     "text": [
      "Set time:5:00am\n",
      "Time set for wake up is 5:00am\n"
     ]
    }
   ],
   "source": [
    "wakeup = [] #put the input wake up time into wakeup\n",
    "\n",
    "wakeup = input (\"Set time:\")\n",
    "    \n",
    "print('Time set for wake up is', wakeup)"
   ]
  },
  {
   "cell_type": "code",
   "execution_count": 8,
   "metadata": {},
   "outputs": [],
   "source": [
    "time.sleep(5) # Pretending sleeping "
   ]
  },
  {
   "cell_type": "markdown",
   "metadata": {},
   "source": [
    "### Soon it is 04 59"
   ]
  },
  {
   "cell_type": "code",
   "execution_count": 9,
   "metadata": {},
   "outputs": [
    {
     "name": "stdout",
     "output_type": "stream",
     "text": [
      "BotPQC: It is 5:00am\n"
     ]
    }
   ],
   "source": [
    "wakeup_time = wakeup\n",
    "\n",
    "print ('BotPQC: It is',wakeup_time) #display time to wake up"
   ]
  },
  {
   "cell_type": "code",
   "execution_count": 10,
   "metadata": {},
   "outputs": [
    {
     "data": {
      "text/plain": [
       "0"
      ]
     },
     "execution_count": 10,
     "metadata": {},
     "output_type": "execute_result"
    }
   ],
   "source": [
    "time.sleep(3) #Program wait for 3 seconds before launching the wav\n",
    "os.system(\"Wake_Up_Call.wav\")"
   ]
  },
  {
   "cell_type": "markdown",
   "metadata": {},
   "source": [
    "# At home Chatting with  BotPQC"
   ]
  },
  {
   "cell_type": "code",
   "execution_count": 11,
   "metadata": {},
   "outputs": [],
   "source": [
    "#download chatterbot Master zipped folder from github\n",
    "#copy the chatterbot folder and place it in Anaconda3 folder, Library folder and lib folder\n",
    "from chatterbot.trainers import ListTrainer\n",
    "from chatterbot import ChatBot"
   ]
  },
  {
   "cell_type": "code",
   "execution_count": 12,
   "metadata": {},
   "outputs": [
    {
     "name": "stdout",
     "output_type": "stream",
     "text": [
      "List Trainer: [####################] 100%\n"
     ]
    }
   ],
   "source": [
    "bot = ChatBot('Test') #create the chatbot\n",
    "\n",
    "# Reading from a text file and input to list\n",
    "corpus = []\n",
    "conv = open ('chats.txt', 'r', encoding='utf-8').readlines()  # open the chats text #r=read as conversation\n",
    "\n",
    "bot.set_trainer(ListTrainer) #set the trainer\n",
    "\n",
    "bot.train(conv) #train the bot\n",
    "\n",
    "for item in conv:\n",
    "    corpus.append(item.strip()) # remove blanks at start and end"
   ]
  },
  {
   "cell_type": "code",
   "execution_count": 13,
   "metadata": {},
   "outputs": [
    {
     "name": "stdout",
     "output_type": "stream",
     "text": [
      "You: Hi\n",
      "BotPCQ: Hi, how are you?\n",
      "\n",
      "bye\n",
      "See you later !\n"
     ]
    }
   ],
   "source": [
    "  ask = input('You: ')\n",
    "while ask != 'bye':\n",
    "    response = bot.get_response(ask)\n",
    "\n",
    "    print('BotPCQ:', response)\n",
    "    print('')\n",
    "    ask = input()\n",
    "\n",
    "print ('See you later !')"
   ]
  },
  {
   "cell_type": "markdown",
   "metadata": {},
   "source": [
    "# Search Engine"
   ]
  },
  {
   "cell_type": "code",
   "execution_count": 14,
   "metadata": {},
   "outputs": [],
   "source": [
    "from bs4 import BeautifulSoup as bs\n",
    "import requests "
   ]
  },
  {
   "cell_type": "code",
   "execution_count": 18,
   "metadata": {},
   "outputs": [],
   "source": [
    "# combine above steps into a function\n",
    "def response(question):\n",
    "    \n",
    "    question = \"_\".join(question.split())\n",
    "    url = 'http://www.answers.com/Q/' + question\n",
    "    response = requests.get(url)\n",
    "    soup = bs(response.text, 'html.parser')\n",
    "    ans = soup.find('div', {'class' : 'answer_text'}).text.strip().replace('\\n', \" \")\n",
    "    \n",
    "    return ans"
   ]
  },
  {
   "cell_type": "code",
   "execution_count": 22,
   "metadata": {},
   "outputs": [
    {
     "name": "stdout",
     "output_type": "stream",
     "text": [
      "Ask me anything : What is orange?\n"
     ]
    }
   ],
   "source": [
    "question = input(\"Ask me anything : \")"
   ]
  },
  {
   "cell_type": "code",
   "execution_count": 23,
   "metadata": {},
   "outputs": [
    {
     "name": "stdout",
     "output_type": "stream",
     "text": [
      "Orange is a color and a fruit. Red and Yellow make Orange. <3 y'all! \n",
      "\n",
      "Ask me anything : bye\n",
      "goodbye\n"
     ]
    }
   ],
   "source": [
    "while question != \"bye\":\n",
    "    reply = response(question)\n",
    "    print (reply,'\\n')\n",
    "    question = input(\"Ask me anything : \")\n",
    "    \n",
    "print ('goodbye')"
   ]
  },
  {
   "cell_type": "markdown",
   "metadata": {},
   "source": [
    "# Read Time-Table"
   ]
  },
  {
   "cell_type": "code",
   "execution_count": 24,
   "metadata": {},
   "outputs": [],
   "source": [
    "import os\n",
    "import time"
   ]
  },
  {
   "cell_type": "code",
   "execution_count": 25,
   "metadata": {},
   "outputs": [
    {
     "name": "stdout",
     "output_type": "stream",
     "text": [
      "You: open 2E3 timetable\n",
      "BotPQC: Opening open 2E3 timetable in progress.\n"
     ]
    }
   ],
   "source": [
    "#User to Bot to open timetable\n",
    "timetable = input(\"You: \")\n",
    "print(\"BotPQC: Opening\", timetable, \"in progress.\")"
   ]
  },
  {
   "cell_type": "code",
   "execution_count": 26,
   "metadata": {},
   "outputs": [],
   "source": [
    "time.sleep(5) #wait for 5 seconds and open the 2E3.pdf\n",
    "os.startfile('2E3.pdf') #timetable file"
   ]
  },
  {
   "cell_type": "markdown",
   "metadata": {},
   "source": [
    "# Link to Google"
   ]
  },
  {
   "cell_type": "code",
   "execution_count": 27,
   "metadata": {},
   "outputs": [],
   "source": [
    "import webbrowser\n",
    "import sys\n",
    "import time"
   ]
  },
  {
   "cell_type": "code",
   "execution_count": 28,
   "metadata": {},
   "outputs": [
    {
     "name": "stdout",
     "output_type": "stream",
     "text": [
      "Enter the query: Trump and Kim summit\n"
     ]
    }
   ],
   "source": [
    "gQuery = input(\"Enter the query: \")"
   ]
  },
  {
   "cell_type": "code",
   "execution_count": 29,
   "metadata": {},
   "outputs": [
    {
     "name": "stdout",
     "output_type": "stream",
     "text": [
      "BotPQC: Searching for your query\n"
     ]
    },
    {
     "data": {
      "text/plain": [
       "True"
      ]
     },
     "execution_count": 29,
     "metadata": {},
     "output_type": "execute_result"
    }
   ],
   "source": [
    "\n",
    "print(\"BotPQC: Searching for your query\")\n",
    "\n",
    "time.sleep(5)\n",
    "\n",
    "webbrowser.open('http://google.com/search?q=%s'%gQuery)"
   ]
  },
  {
   "cell_type": "markdown",
   "metadata": {},
   "source": [
    "# Remind student to sleep"
   ]
  },
  {
   "cell_type": "code",
   "execution_count": 1,
   "metadata": {},
   "outputs": [],
   "source": [
    "import time\n",
    "import os"
   ]
  },
  {
   "cell_type": "code",
   "execution_count": 2,
   "metadata": {},
   "outputs": [
    {
     "name": "stdout",
     "output_type": "stream",
     "text": [
      "Set time:10:00pm\n",
      "Time set for sleeping is 10:00pm\n"
     ]
    }
   ],
   "source": [
    "sleep =[]\n",
    "\n",
    "sleep = input (\"Set time:\")\n",
    "print('Time set for sleeping is', sleep)\n"
   ]
  },
  {
   "cell_type": "code",
   "execution_count": 3,
   "metadata": {},
   "outputs": [],
   "source": [
    "time.sleep(5) #wait 10 seconds to print the sleeping time."
   ]
  },
  {
   "cell_type": "markdown",
   "metadata": {},
   "source": [
    "### Soon it is 21 59"
   ]
  },
  {
   "cell_type": "code",
   "execution_count": 4,
   "metadata": {},
   "outputs": [
    {
     "name": "stdout",
     "output_type": "stream",
     "text": [
      "BotPQC: It is 10:00pm\n"
     ]
    }
   ],
   "source": [
    "bed_time = sleep\n",
    "\n",
    "print ('BotPQC: It is',bed_time)"
   ]
  },
  {
   "cell_type": "code",
   "execution_count": 5,
   "metadata": {},
   "outputs": [
    {
     "data": {
      "text/plain": [
       "0"
      ]
     },
     "execution_count": 5,
     "metadata": {},
     "output_type": "execute_result"
    }
   ],
   "source": [
    "time.sleep(3)\n",
    "os.system(\"bedtime.wav\")"
   ]
  },
  {
   "cell_type": "markdown",
   "metadata": {},
   "source": [
    "# Camera and Surveillance"
   ]
  },
  {
   "cell_type": "code",
   "execution_count": 6,
   "metadata": {},
   "outputs": [],
   "source": [
    "import os\n",
    "import winsound\n",
    "import PIL.Image\n",
    "import time"
   ]
  },
  {
   "cell_type": "code",
   "execution_count": 7,
   "metadata": {},
   "outputs": [
    {
     "name": "stdout",
     "output_type": "stream",
     "text": [
      "BotPQC: ALERT! A suspicious student is in the class.\n"
     ]
    }
   ],
   "source": [
    "#detects motion and give alert message and capture image\n",
    "print (\"BotPQC: ALERT! A suspicious student is in the class.\")\n"
   ]
  },
  {
   "cell_type": "code",
   "execution_count": 8,
   "metadata": {},
   "outputs": [
    {
     "name": "stdout",
     "output_type": "stream",
     "text": [
      "Image captured\n"
     ]
    }
   ],
   "source": [
    "#Beep is when the bot detects the movement\n",
    "duration = 800  # millisecond\n",
    "freq = 1250     # Hz\n",
    "winsound.Beep(freq, duration)\n",
    "\n",
    "time.sleep(3)\n",
    "print(\"Image captured\") #BotPQC will capture the picture."
   ]
  },
  {
   "cell_type": "code",
   "execution_count": 9,
   "metadata": {},
   "outputs": [
    {
     "data": {
      "image/png": "[encoded data removed]",
      "text/plain": [
       "<PIL.PngImagePlugin.PngImageFile image mode=RGBA size=225x225 at 0x208EF3357F0>"
      ]
     },
     "execution_count": 9,
     "metadata": {},
     "output_type": "execute_result"
    }
   ],
   "source": [
    "time.sleep(3)\n",
    "PIL.Image.open('movement.png') #for DM to see whom entered the class"
   ]
  },
  {
   "cell_type": "markdown",
   "metadata": {},
   "source": [
    "# Detect student sleeping + wake him/ her up in class"
   ]
  },
  {
   "cell_type": "code",
   "execution_count": 10,
   "metadata": {},
   "outputs": [],
   "source": [
    "import os\n",
    "import time"
   ]
  },
  {
   "cell_type": "code",
   "execution_count": 11,
   "metadata": {},
   "outputs": [
    {
     "data": {
      "text/plain": [
       "0"
      ]
     },
     "execution_count": 11,
     "metadata": {},
     "output_type": "execute_result"
    }
   ],
   "source": [
    "time.sleep(3)\n",
    "os.system(\"what-are-you-doing.wav\") #detects student sleeping"
   ]
  },
  {
   "cell_type": "markdown",
   "metadata": {},
   "source": [
    "# Remind student to take a break if it sense student is tired"
   ]
  },
  {
   "cell_type": "code",
   "execution_count": 12,
   "metadata": {},
   "outputs": [
    {
     "name": "stdout",
     "output_type": "stream",
     "text": [
      "BotPQC: Take a break, Winston Chiu\n"
     ]
    },
    {
     "data": {
      "text/plain": [
       "True"
      ]
     },
     "execution_count": 12,
     "metadata": {},
     "output_type": "execute_result"
    }
   ],
   "source": [
    "import time\n",
    "import webbrowser\n",
    "\n",
    "# first rest\n",
    "print (\"BotPQC: Take a break, Winston Chiu\")\n",
    "\n",
    "time.sleep(3)\n",
    "webbrowser.open(\"https://www.youtube.com/watch?v=dVPeMQBdkKg\")\n",
    " "
   ]
  },
  {
   "cell_type": "code",
   "execution_count": 13,
   "metadata": {},
   "outputs": [
    {
     "name": "stdout",
     "output_type": "stream",
     "text": [
      "BotPQC: Take a break\n"
     ]
    },
    {
     "data": {
      "text/plain": [
       "True"
      ]
     },
     "execution_count": 13,
     "metadata": {},
     "output_type": "execute_result"
    }
   ],
   "source": [
    "# second rest\n",
    "print (\"BotPQC: Take a break\")\n",
    "time.sleep(5)\n",
    "webbrowser.open(\"https://www.youtube.com/watch?v=dVPeMQBdkKg\")"
   ]
  },
  {
   "cell_type": "code",
   "execution_count": null,
   "metadata": {},
   "outputs": [],
   "source": []
  }
 ],
 "metadata": {
  "kernelspec": {
   "display_name": "Python 3",
   "language": "python",
   "name": "python3"
  },
  "language_info": {
   "codemirror_mode": {
    "name": "ipython",
    "version": 3
   },
   "file_extension": ".py",
   "mimetype": "text/x-python",
   "name": "python",
   "nbconvert_exporter": "python",
   "pygments_lexer": "ipython3",
   "version": "3.6.4"
  },
  "widgets": {
   "application/vnd.jupyter.widget-state+json": {
    "state": {},
    "version_major": 2,
    "version_minor": 0
   }
  }
 },
 "nbformat": 4,
 "nbformat_minor": 1
}
